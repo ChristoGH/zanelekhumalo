{
 "cells": [
  {
   "cell_type": "markdown",
   "metadata": {},
   "source": [
    "``` \n",
    "Start here...\n",
    "```"
   ]
  },
  {
   "cell_type": "code",
   "execution_count": null,
   "metadata": {},
   "outputs": [],
   "source": [
    "%matplotlib inline"
   ]
  },
  {
   "cell_type": "markdown",
   "metadata": {
    "collapsed": true
   },
   "source": [
    "``` \n",
    "http://bitbucket.nednet.co.za/scm/rbb-bdds/data_science_r.git\n",
    "https://machinelearningmastery.com/compare-machine-learning-algorithms-python-scikit-learn/ \n",
    "```"
   ]
  },
  {
   "cell_type": "markdown",
   "metadata": {},
   "source": [
    "``` \n",
    "This script was created by Christo Strydom.\n",
    "This evaluation is not a test!\n",
    "You do not need to be an Python champion to do any of the 'questions' below.  \n",
    "It is done to evaluate you as an aspiring data scientist.\n",
    "The answers to the 'questions' can easily be found in a google search.\n",
    "You have internet access.  Please it!\n",
    "\n",
    "0. Infrastructure preparation\n",
    "1. Data acquisition\n",
    "2. Data exploration\n",
    "3. Data visualization\n",
    "4. Model construction\n",
    "5. Model Evaluation\n",
    "6. Interpretation \n",
    "```"
   ]
  },
  {
   "cell_type": "code",
   "execution_count": null,
   "metadata": {},
   "outputs": [],
   "source": [
    "import os"
   ]
  },
  {
   "cell_type": "code",
   "execution_count": null,
   "metadata": {},
   "outputs": [],
   "source": [
    "# Display the current working directory, this should reflect you own name:\n",
    "'*** YOUR CODE HERE ***'"
   ]
  },
  {
   "cell_type": "code",
   "execution_count": null,
   "metadata": {},
   "outputs": [],
   "source": [
    "# Set your candidatename = to your name as it appears in the directory, small caps and no spaces!: \n",
    "candidatename='*** YOUR CODE HERE ***'"
   ]
  },
  {
   "cell_type": "code",
   "execution_count": null,
   "metadata": {},
   "outputs": [],
   "source": [
    "# Import pandas as pd and numpy as np\n",
    "'*** YOUR CODE HERE ***'"
   ]
  },
  {
   "cell_type": "code",
   "execution_count": null,
   "metadata": {},
   "outputs": [],
   "source": [
    "import seaborn as sns\n",
    "import matplotlib.pyplot as plt\n",
    "from matplotlib import colors"
   ]
  },
  {
   "cell_type": "code",
   "execution_count": null,
   "metadata": {},
   "outputs": [],
   "source": [
    "# import cross_validate from sklearn.model_selection:\n",
    "from sklearn.model_selection import cross_validate\n",
    "from sklearn.discriminant_analysis import LinearDiscriminantAnalysis"
   ]
  },
  {
   "cell_type": "code",
   "execution_count": null,
   "metadata": {},
   "outputs": [],
   "source": [
    "# Import DecisionTreeClassifier,KNeighborsClassifier, LinearDiscriminantAnalysis, SVC and \n",
    "# RandomForestClassifier from sklearn:\n",
    "'*** YOUR CODE HERE ***'"
   ]
  },
  {
   "cell_type": "code",
   "execution_count": null,
   "metadata": {},
   "outputs": [],
   "source": [
    "# Import KFold, cross_val_score and train_test_split from sklearn:\n",
    "'*** YOUR CODE HERE ***'"
   ]
  },
  {
   "cell_type": "code",
   "execution_count": null,
   "metadata": {},
   "outputs": [],
   "source": [
    "# import precision_score, recall_score, accuracy_score and confusion_matrix from sklearn\n",
    "'*** YOUR CODE HERE ***'"
   ]
  },
  {
   "cell_type": "code",
   "execution_count": null,
   "metadata": {},
   "outputs": [],
   "source": [
    "from sklearn import svm\n",
    "from sklearn import model_selection\n",
    "from sklearn.datasets import make_classification"
   ]
  },
  {
   "cell_type": "markdown",
   "metadata": {},
   "source": [
    "# 1. Data acquisition"
   ]
  },
  {
   "cell_type": "code",
   "execution_count": null,
   "metadata": {},
   "outputs": [],
   "source": [
    "# The iris data has already been downloaded.  It is in the data directory."
   ]
  },
  {
   "cell_type": "code",
   "execution_count": null,
   "metadata": {},
   "outputs": [],
   "source": [
    "# Use pandas read_csv() method to load the data.  The file has ***NO HEADERS*** and is COMMA DELIMITED:\n",
    "iris_data = '*** YOUR CODE HERE ***'"
   ]
  },
  {
   "cell_type": "code",
   "execution_count": null,
   "metadata": {},
   "outputs": [],
   "source": [
    "# set the column names in the dataset to \"Sepal.Length\",\"Sepal.Width\",\"Petal.Length\",\"Petal.Width\",\"Species\"\n",
    "iris_data.columns = '*** YOUR CODE HERE ***'"
   ]
  },
  {
   "cell_type": "code",
   "execution_count": null,
   "metadata": {},
   "outputs": [],
   "source": [
    "# Use train_test_split to create train and test data use an 80-20 split ie 80% train data and 20% test data.\n",
    "# Set the random state to 2019:\n",
    "X_train, X_test, y_train, y_test = train_test_split('*** YOUR CODE HERE ***')"
   ]
  },
  {
   "cell_type": "code",
   "execution_count": null,
   "metadata": {},
   "outputs": [],
   "source": [
    "# Convert y_train to a row vector as opposed to a column vector.  Use the ravel method:\n",
    "y_train = y_train.values.ravel()\n",
    "y_test = y_test.values.ravel()"
   ]
  },
  {
   "cell_type": "code",
   "execution_count": null,
   "metadata": {},
   "outputs": [],
   "source": [
    "# Verify the dimensions of the datasets by printing their shapes to screen:\n",
    "print('*** YOUR CODE HERE ***')"
   ]
  },
  {
   "cell_type": "markdown",
   "metadata": {},
   "source": [
    "# 2. Data exploration"
   ]
  },
  {
   "cell_type": "code",
   "execution_count": null,
   "metadata": {},
   "outputs": [],
   "source": [
    "# Reveal the dimensions of the X_train to screen:\n",
    "'*** YOUR CODE HERE ***'"
   ]
  },
  {
   "cell_type": "code",
   "execution_count": null,
   "metadata": {},
   "outputs": [],
   "source": [
    "# List the class types of each of the 5 attributes. \n",
    "# Use the dtypes method on the train dataset (X_train):\n",
    "'*** YOUR CODE HERE ***'"
   ]
  },
  {
   "cell_type": "code",
   "execution_count": null,
   "metadata": {},
   "outputs": [],
   "source": [
    "# print to screen the top 20 rows of the train dataset (X_train):\n",
    "# Use the head() method:\n",
    "'*** YOUR CODE HERE ***'"
   ]
  },
  {
   "cell_type": "code",
   "execution_count": null,
   "metadata": {},
   "outputs": [],
   "source": [
    "# The Species column contains species categories.\n",
    "# List the unique values in the Species (y_train) column.  \n",
    "# This reveals the number of categories. Use the set and list operator.\n",
    "'*** YOUR CODE HERE ***'"
   ]
  },
  {
   "cell_type": "code",
   "execution_count": null,
   "metadata": {},
   "outputs": [],
   "source": [
    "# Count the number of members in each class of the Species column, use the iris_data dataframe and the value_counts() method:\n",
    "'*** YOUR CODE HERE ***'"
   ]
  },
  {
   "cell_type": "code",
   "execution_count": null,
   "metadata": {},
   "outputs": [],
   "source": [
    "# use the value_counts method set normalize to true\n",
    "iris_data['Species'].value_counts(normalize=True) * 100"
   ]
  },
  {
   "cell_type": "code",
   "execution_count": null,
   "metadata": {},
   "outputs": [],
   "source": [
    "# Use the describe method to reveal a statistical summary of all attributes\n",
    "# in train_data:\n",
    "'*** YOUR CODE HERE ***'"
   ]
  },
  {
   "cell_type": "markdown",
   "metadata": {},
   "source": [
    "\n",
    "# 3. Data visualization"
   ]
  },
  {
   "cell_type": "code",
   "execution_count": null,
   "metadata": {},
   "outputs": [],
   "source": [
    "# -Plot 1, iris_plot1_py---------------------------------------------------------------------------------------\n",
    "# Create a boxplot for the values of each of the 4 attributes in iris_data.\n",
    "# Use the boxplot() method for data frames\n",
    "# Place all boxplots on one image. Save this file as a .png\n",
    "ax = iris_data.boxplot(column=['*** YOUR CODE HERE ***'])\n",
    "# us ax above and define fig using the get_figure method on ax\n",
    "fig = '*** YOUR CODE HERE ***'\n",
    "# use the save_fig method to save the plot as iris_plot1_py.png:\n",
    "fig.savefig('*** YOUR CODE HERE ***')"
   ]
  },
  {
   "cell_type": "code",
   "execution_count": null,
   "metadata": {},
   "outputs": [],
   "source": [
    "# -Plot 2-iris_plot2_py--------------------------------------------------------------------------------------\n",
    "# Create a bar plot for the species column from iris_data:\n",
    "ax = '*** YOUR CODE HERE ***'\n",
    "fig = ax.get_figure()\n",
    "# use the save_fig method to save the plot as iris_plot2_py.png:\n",
    "fig.savefig('c://candidates//'+candidatename+'//graphs//'+'*** YOUR CODE HERE ***')"
   ]
  },
  {
   "cell_type": "code",
   "execution_count": null,
   "metadata": {},
   "outputs": [],
   "source": [
    "# iris_plot3_py ----------------------------------------------------------------------------------------------------------\n",
    "# Using the seaborn library use the pairgrid method sns.PairGrid() and set hue to species.\n",
    "# Place a histogram plt.hist on the diagonal with method map_diag and a scatterplot on the off diagonal using plt.scatter.  \n",
    "# Add a legend.\n",
    "g = sns.PairGrid(iris_data, hue=\"Species\")\n",
    "g.map_diag(plt.hist)\n",
    "g.map_offdiag(plt.scatter)\n",
    "g.add_legend();\n",
    "g.savefig('*** YOUR CODE HERE ***')\n",
    "# fig.savefig('c://candidates//'+candidatename+'//graphs//'+'iris_plot3_py.png')"
   ]
  },
  {
   "cell_type": "code",
   "execution_count": null,
   "metadata": {},
   "outputs": [],
   "source": [
    "# -Plot 4---------------------------------------------------------------------------------------\n",
    "# Do the same but create a box plot instead.  That is set plot=boxfig, axes = plt.subplots(2, 2, figsize=(16,9))\n",
    "# \"Sepal.Length\",\"Sepal.Width\",\"Petal.Length\",\"Petal.Width\"\n",
    "plot=boxfig, axes = plt.subplots(2, 2, figsize=(16,9))\n",
    "ax = sns.boxplot(x=\"Species\", y=\"Sepal.Length\", data=iris_data, orient='v', \n",
    "    ax=axes[0, 0])\n",
    "ax = sns.boxplot(x=\"Species\", y=\"Sepal.Width\", data=iris_data, orient='v', \n",
    "    ax=axes[0, 1])\n",
    "ax = sns.boxplot(x=\"Species\", y=\"Petal.Length\", data=iris_data, orient='v', \n",
    "    ax=axes[1, 0])\n",
    "ax = sns.boxplot(x=\"Species\", y=\"Petal.Width\", data=iris_data, orient='v', \n",
    "    ax=axes[1, 1])\n",
    "fig = '*** YOUR CODE HERE ***'\n",
    "# iris_plot1_\n",
    "\n",
    "fig.savefig('*** YOUR CODE HERE ***')"
   ]
  },
  {
   "cell_type": "code",
   "execution_count": null,
   "metadata": {},
   "outputs": [],
   "source": [
    "# construct seaborn sns with the pairplot method using data = iris_data and set hue to \"Species\" and use palette \"husl\":\n",
    "g = sns.pairplot('*** YOUR CODE HERE ***')\n",
    "# Save your plot with savefig method fro the fig into your graph directory.  Set the plot name to iris_plot5_py:\n",
    "g.savefig('*** YOUR CODE HERE ***')"
   ]
  },
  {
   "cell_type": "code",
   "execution_count": null,
   "metadata": {},
   "outputs": [],
   "source": [
    "# set up Seaborn (sns) and method PairGrid() with data = iris_data:\n",
    "g = sns.PairGrid('*** YOUR CODE HERE ***')\n",
    "# Populate the diagonal of the grid with func=sns.kdeplot. Use method map_diag():\n",
    "g.map_diag('*** YOUR CODE HERE ***')\n",
    "# Use method map_offdiag() and func = sns.kdeplot with n_levels=6 to populate the off diagonal items:\n",
    "g.map_offdiag('*** YOUR CODE HERE ***');\n",
    "# Save your plot as iris_plot6_py.png in your graph directory:\n",
    "g.savefig('*** YOUR CODE HERE ***')"
   ]
  },
  {
   "cell_type": "markdown",
   "metadata": {},
   "source": [
    "# 4. Model construction"
   ]
  },
  {
   "cell_type": "code",
   "execution_count": null,
   "metadata": {},
   "outputs": [],
   "source": [
    "# In the following section we create 5 standard models to \n",
    "# estimate the most likely species given 4 meausrements\n",
    "# \"Sepal.Length\",\"Sepal.Width\",\"Petal.Length\",\"Petal.Width\" (the flower measurement)\n",
    "# of unseen data.\n",
    "# \n",
    "# Set-up a framework to perform 10-fold cross validation.\n",
    "# Build 5 different models to predict species from flower measurements.\n",
    "# Select the best model.\n"
   ]
  },
  {
   "cell_type": "code",
   "execution_count": null,
   "metadata": {},
   "outputs": [],
   "source": [
    "# Create two empty lists, results and names.  This list will contain the name of the machine learning model \n",
    "# and the the results of a 10-fold cross validated results: \n",
    "results = []\n",
    "names = []\n",
    "# Set scoring to 'accuracy'\n",
    "scoring = 'accuracy'\n",
    "# Set a seed value equal to 2019\n",
    "seed = 2019\n",
    "n_splits=10"
   ]
  },
  {
   "cell_type": "markdown",
   "metadata": {},
   "source": [
    "## 4.1 Linear Discriminant Analysis"
   ]
  },
  {
   "cell_type": "markdown",
   "metadata": {},
   "source": [
    "#### https://www.datacamp.com/community/tutorials/decision-tree-classification-python"
   ]
  },
  {
   "cell_type": "markdown",
   "metadata": {},
   "source": [
    "``` Linear discriminant analysis (LDA), also known as normal discriminant analysis (NDA), is used to find a linear combination of features from the training set that best characterizes or separates two or more classes in the target set. ```"
   ]
  },
  {
   "cell_type": "code",
   "execution_count": null,
   "metadata": {},
   "outputs": [],
   "source": [
    "# set the name = 'lda':\n",
    "name='lda'\n",
    "# append to the names list:\n",
    "names.append(name)\n",
    "model = LinearDiscriminantAnalysis()"
   ]
  },
  {
   "cell_type": "code",
   "execution_count": null,
   "metadata": {},
   "outputs": [],
   "source": [
    "# Use method KFold() from model_selection, set n_splits=n_splits and seed=seed:\n",
    "kfold = model_selection.KFold('*** YOUR CODE HERE ***')"
   ]
  },
  {
   "cell_type": "code",
   "execution_count": null,
   "metadata": {},
   "outputs": [],
   "source": [
    "# Calculate the cross validated results using model_selection and the cross_val_score() method.\n",
    "# set estimator=model, cv=kfold, scoring=scoring, use X_train, y_train, derived above:\n",
    "cv_results = model_selection.cross_val_score('*** YOUR CODE HERE ***')\n",
    "# append cv_results to results using the append method:\n",
    "results.'*** YOUR CODE HERE ***'\n",
    "# this print a summary of the results:\n",
    "msg = \"%s: %f (%f)\" % (name, cv_results.mean(), cv_results.std())\n",
    "print(msg)"
   ]
  },
  {
   "cell_type": "code",
   "execution_count": null,
   "metadata": {},
   "outputs": [],
   "source": [
    "# Use the fit method() (of the model) and fit y_train  to X_train:\n",
    "model.fit(X_train, y_train)\n",
    "# Using this model and method predict() predict y using X_test, call the result y_test_predict:\n",
    "y_test_predict=model.predict('*** YOUR CODE HERE ***')\n",
    "# Print out a confusion matrix using y_test_predict and y_test:\n",
    "confusion_matrix('*** YOUR CODE HERE ***')"
   ]
  },
  {
   "cell_type": "code",
   "execution_count": null,
   "metadata": {},
   "outputs": [],
   "source": [
    "# calculate the model accuracy, use accuracy_score\n",
    "model_acc = accuracy_score('*** YOUR CODE HERE ***')\n",
    "# calculate the model precision score, use the method precision_score()\n",
    "model_ps = precision_score('*** YOUR CODE HERE ***', average='macro')\n",
    "# calculate the model precision score, use the method recall_score()\n",
    "model_rs = recall_score('*** YOUR CODE HERE ***', average='macro')\n",
    "print('Accuracy score: ',model_acc, ' Precision: ', model_ps, ' Recall: ',model_rs)"
   ]
  },
  {
   "cell_type": "markdown",
   "metadata": {
    "collapsed": true
   },
   "source": [
    "## 4.2 Decision tree"
   ]
  },
  {
   "cell_type": "markdown",
   "metadata": {},
   "source": [
    "``` The decision tree method is a powerful predictive machine learning technique used for both classification and regression. It is also known as Classification and Regression Trees (CART). ```"
   ]
  },
  {
   "cell_type": "code",
   "execution_count": null,
   "metadata": {},
   "outputs": [],
   "source": [
    "# Give the model a name:\n",
    "name='tree'\n",
    "# append to the names list:\n",
    "names.append('*** YOUR CODE HERE ***')\n",
    "model = DecisionTreeClassifier()"
   ]
  },
  {
   "cell_type": "code",
   "execution_count": null,
   "metadata": {},
   "outputs": [],
   "source": [
    "# Use method KFold() from model_selection, set n_splits=n_splits and seed=seed:\n",
    "kfold = model_selection.KFold('*** YOUR CODE HERE ***')"
   ]
  },
  {
   "cell_type": "code",
   "execution_count": null,
   "metadata": {},
   "outputs": [],
   "source": [
    "# Calculate the cross validated results using model_selection and the cross_val_score() method.\n",
    "# set estimator=model, cv=kfold, scoring=scoring, use X_train, y_train, derived above:\n",
    "cv_results = model_selection.cross_val_score('*** YOUR CODE HERE ***')\n",
    "# append cv_results to results using the append method:\n",
    "results.'*** YOUR CODE HERE ***'\n",
    "# this print a summary of the results:\n",
    "msg = \"%s: %f (%f)\" % (name, cv_results.mean(), cv_results.std())\n",
    "print(msg)"
   ]
  },
  {
   "cell_type": "code",
   "execution_count": null,
   "metadata": {},
   "outputs": [],
   "source": [
    "# Use the fit method() (of the model) and fit y_train  to X_train:\n",
    "model.fit(X_train, y_train)\n",
    "# Using this model and method predict() predict y using X_test, call the result y_test_predict:\n",
    "y_test_predict=model.predict('*** YOUR CODE HERE ***')\n",
    "# Print out a confusion matrix using y_test_predict and y_test:\n",
    "confusion_matrix('*** YOUR CODE HERE ***')"
   ]
  },
  {
   "cell_type": "code",
   "execution_count": null,
   "metadata": {},
   "outputs": [],
   "source": [
    "# calculate the model accuracy, use accuracy_score\n",
    "model_acc = accuracy_score('*** YOUR CODE HERE ***')\n",
    "# calculate the model precision score, use the method precision_score()\n",
    "model_ps = precision_score('*** YOUR CODE HERE ***', average='macro')\n",
    "# calculate the model precision score, use the method recall_score()\n",
    "model_rs = recall_score('*** YOUR CODE HERE ***', average='macro')\n",
    "print('Accuracy score: ',model_acc, ' Precision: ', model_ps, ' Recall: ',model_rs)"
   ]
  },
  {
   "cell_type": "markdown",
   "metadata": {},
   "source": [
    "## 4.3 k Nearest Neighbours"
   ]
  },
  {
   "cell_type": "markdown",
   "metadata": {},
   "source": [
    "``` K Nearest Neighbor is a Supervised Machine Learning algorithm.  It classifies a new data point into the target class, \n",
    "depending on the features of its neighboring data points.  Set the seed to 7 and method to 'knn'.  Assigne the model to a variable called fit.knn.\n",
    "Set n_neighbors to 3, use KNeighborsClassifier, derive a model call it knn and predict y_test using X_test:\n",
    "```"
   ]
  },
  {
   "cell_type": "code",
   "execution_count": null,
   "metadata": {},
   "outputs": [],
   "source": [
    "name='knn'\n",
    "# append to the names list:\n",
    "names.append(name)\n",
    "model = KNeighborsClassifier()"
   ]
  },
  {
   "cell_type": "code",
   "execution_count": null,
   "metadata": {},
   "outputs": [],
   "source": [
    "# Use method KFold() from model_selection, set n_splits=n_splits and seed=seed:\n",
    "kfold = model_selection.KFold('*** YOUR CODE HERE ***')"
   ]
  },
  {
   "cell_type": "code",
   "execution_count": null,
   "metadata": {},
   "outputs": [],
   "source": [
    "# Calculate the cross validated results using model_selection and the cross_val_score() method.\n",
    "# set estimator=model, cv=kfold, scoring=scoring, use X_train, y_train, derived above:\n",
    "cv_results = model_selection.cross_val_score('*** YOUR CODE HERE ***')\n",
    "# append cv_results to results using the append method:\n",
    "results.'*** YOUR CODE HERE ***'\n",
    "# this print a summary of the results:\n",
    "msg = \"%s: %f (%f)\" % (name, cv_results.mean(), cv_results.std())\n",
    "print(msg)"
   ]
  },
  {
   "cell_type": "code",
   "execution_count": null,
   "metadata": {},
   "outputs": [],
   "source": [
    "# Use the fit method() (of the model) and fit y_train  to X_train:\n",
    "model.fit(X_train, y_train)\n",
    "# Using this model and method predict() predict y using X_test, call the result y_test_predict:\n",
    "y_test_predict=model.predict('*** YOUR CODE HERE ***')\n",
    "# Print out a confusion matrix using y_test_predict and y_test:\n",
    "confusion_matrix('*** YOUR CODE HERE ***')"
   ]
  },
  {
   "cell_type": "code",
   "execution_count": null,
   "metadata": {},
   "outputs": [],
   "source": [
    "# calculate the model accuracy, use accuracy_score\n",
    "model_acc = accuracy_score('*** YOUR CODE HERE ***')\n",
    "# calculate the model precision score, use the method precision_score()\n",
    "model_ps = precision_score('*** YOUR CODE HERE ***', average='macro')\n",
    "# calculate the model precision score, use the method recall_score()\n",
    "model_rs = recall_score('*** YOUR CODE HERE ***', average='macro')\n",
    "print('Accuracy score: ',model_acc, ' Precision: ', model_ps, ' Recall: ',model_rs)"
   ]
  },
  {
   "cell_type": "markdown",
   "metadata": {},
   "source": [
    "## 4.4 The Support vector machine"
   ]
  },
  {
   "cell_type": "markdown",
   "metadata": {},
   "source": [
    "``` A support vector machine is a supervised learning technique and is mostly used in classification problems. \n",
    "In this algorithm, each data item is plotted as a point in the feature space\n",
    "with the value of each feature being the value of a particular coordinate. The model ultimately finds that hyper-plane that best separates all the classes.\n",
    "Set the seed to 7 and method to 'svmRadial'.  Assign the model to a variable called svm_model ```"
   ]
  },
  {
   "cell_type": "code",
   "execution_count": null,
   "metadata": {},
   "outputs": [],
   "source": [
    "name='svm'\n",
    "# append to the names list:\n",
    "names.append(name)\n",
    "model = SVC(gamma='scale')"
   ]
  },
  {
   "cell_type": "code",
   "execution_count": null,
   "metadata": {},
   "outputs": [],
   "source": [
    "# Use method KFold() from model_selection, set n_splits=n_splits and seed=seed:\n",
    "kfold = model_selection.KFold('*** YOUR CODE HERE ***')"
   ]
  },
  {
   "cell_type": "code",
   "execution_count": null,
   "metadata": {},
   "outputs": [],
   "source": [
    "# Calculate the cross validated results using model_selection and the cross_val_score() method.\n",
    "# set estimator=model, cv=kfold, scoring=scoring, use X_train, y_train, derived above:\n",
    "cv_results = model_selection.cross_val_score('*** YOUR CODE HERE ***')\n",
    "# append cv_results to results using the append method:\n",
    "results.'*** YOUR CODE HERE ***'\n",
    "# this print a summary of the results:\n",
    "msg = \"%s: %f (%f)\" % (name, cv_results.mean(), cv_results.std())\n",
    "print(msg)"
   ]
  },
  {
   "cell_type": "code",
   "execution_count": null,
   "metadata": {},
   "outputs": [],
   "source": [
    "# Use the fit method() (of the model) and fit y_train  to X_train:\n",
    "model.fit(X_train, y_train)\n",
    "# Using this model and method predict() predict y using X_test, call the result y_test_predict:\n",
    "y_test_predict=model.predict('*** YOUR CODE HERE ***')\n",
    "# Print out a confusion matrix using y_test_predict and y_test:\n",
    "confusion_matrix('*** YOUR CODE HERE ***')"
   ]
  },
  {
   "cell_type": "code",
   "execution_count": null,
   "metadata": {},
   "outputs": [],
   "source": [
    "# calculate the model accuracy, use accuracy_score\n",
    "model_acc = accuracy_score('*** YOUR CODE HERE ***')\n",
    "# calculate the model precision score, use the method precision_score()\n",
    "model_ps = precision_score('*** YOUR CODE HERE ***', average='macro')\n",
    "# calculate the model precision score, use the method recall_score()\n",
    "model_rs = recall_score('*** YOUR CODE HERE ***', average='macro')\n",
    "print('Accuracy score: ',model_acc, ' Precision: ', model_ps, ' Recall: ',model_rs)"
   ]
  },
  {
   "cell_type": "markdown",
   "metadata": {},
   "source": [
    "## e) Random Forest"
   ]
  },
  {
   "cell_type": "markdown",
   "metadata": {},
   "source": [
    "```Decision trees make binary predictions. The Random Forest technique is an improvement in that it trains not only one decision tree classifier, but a group of classifiers, each trained on a different random subset of the train set. The predicted class is the one that gets the MOST 'votes' from all the individual trees. ```"
   ]
  },
  {
   "cell_type": "code",
   "execution_count": null,
   "metadata": {},
   "outputs": [],
   "source": [
    "name='rf'\n",
    "# append to the names list:\n",
    "names.append(name)\n",
    "model = RandomForestClassifier(n_estimators=100)"
   ]
  },
  {
   "cell_type": "code",
   "execution_count": null,
   "metadata": {},
   "outputs": [],
   "source": [
    "# Use method KFold() from model_selection, set n_splits=n_splits and seed=seed:\n",
    "kfold = model_selection.KFold('*** YOUR CODE HERE ***')"
   ]
  },
  {
   "cell_type": "code",
   "execution_count": null,
   "metadata": {},
   "outputs": [],
   "source": [
    "# Calculate the cross validated results using model_selection and the cross_val_score() method.\n",
    "# set estimator=model, cv=kfold, scoring=scoring, use X_train, y_train, derived above:\n",
    "cv_results = model_selection.cross_val_score('*** YOUR CODE HERE ***')\n",
    "# append cv_results to results using the append method:\n",
    "results.'*** YOUR CODE HERE ***'\n",
    "# this print a summary of the results:\n",
    "msg = \"%s: %f (%f)\" % (name, cv_results.mean(), cv_results.std())\n",
    "print(msg)"
   ]
  },
  {
   "cell_type": "code",
   "execution_count": null,
   "metadata": {},
   "outputs": [],
   "source": [
    "# Use the fit method() (of the model) and fit y_train  to X_train:\n",
    "model.fit(X_train, y_train)\n",
    "# Using this model and method predict() predict y using X_test, call the result y_test_predict:\n",
    "y_test_predict=model.predict('*** YOUR CODE HERE ***')\n",
    "# Print out a confusion matrix using y_test_predict and y_test:\n",
    "confusion_matrix('*** YOUR CODE HERE ***')"
   ]
  },
  {
   "cell_type": "code",
   "execution_count": null,
   "metadata": {},
   "outputs": [],
   "source": [
    "# calculate the model accuracy, use accuracy_score\n",
    "model_acc = accuracy_score('*** YOUR CODE HERE ***')\n",
    "# calculate the model precision score, use the method precision_score()\n",
    "model_ps = precision_score('*** YOUR CODE HERE ***', average='macro')\n",
    "# calculate the model precision score, use the method recall_score()\n",
    "model_rs = recall_score('*** YOUR CODE HERE ***', average='macro')\n",
    "print('Accuracy score: ',model_acc, ' Precision: ', model_ps, ' Recall: ',model_rs)"
   ]
  },
  {
   "cell_type": "markdown",
   "metadata": {},
   "source": [
    "# 5. Evaluation"
   ]
  },
  {
   "cell_type": "code",
   "execution_count": null,
   "metadata": {},
   "outputs": [],
   "source": [
    "fig = plt.figure()\n",
    "fig.suptitle('Algorithm Evaluation')\n",
    "ax = fig.add_subplot(111)\n",
    "plt.boxplot(results)\n",
    "ax.set_xticklabels(names)\n",
    "plt.show()\n",
    "# Save this figure as \n",
    "fig.savefig('*** YOUR CODE HERE ***')"
   ]
  },
  {
   "cell_type": "markdown",
   "metadata": {},
   "source": [
    "# 6. Interpretation"
   ]
  },
  {
   "cell_type": "markdown",
   "metadata": {
    "collapsed": true
   },
   "source": [
    "```\n",
    "a)  Which model do you prefer and why? \n",
    "```\n",
    "    \n",
    "```\n",
    "b) What will happen with species not seen before?\n",
    "```\n",
    "    \n",
    "```\n",
    "c)  What makes these models so good (think about the difference between client behaviour (such as in Loyalty and Rewards) vs the attributes of plant species)?\n",
    "```\n",
    "     \n",
    "\n",
    "\n",
    "\n",
    "```\n",
    "This is the end of this Jupyter Notebook candidate evaluation.\n",
    "Thank you and good luck!\n",
    "```"
   ]
  },
  {
   "cell_type": "code",
   "execution_count": null,
   "metadata": {},
   "outputs": [],
   "source": []
  }
 ],
 "metadata": {
  "kernelspec": {
   "display_name": "Python 3",
   "language": "python",
   "name": "python3"
  },
  "language_info": {
   "codemirror_mode": {
    "name": "ipython",
    "version": 3
   },
   "file_extension": ".py",
   "mimetype": "text/x-python",
   "name": "python",
   "nbconvert_exporter": "python",
   "pygments_lexer": "ipython3",
   "version": "3.7.0"
  }
 },
 "nbformat": 4,
 "nbformat_minor": 2
}
